{
  "nbformat": 4,
  "nbformat_minor": 0,
  "metadata": {
    "colab": {
      "name": "Taiyo_web_scarping.ipynb",
      "provenance": [],
      "collapsed_sections": [],
      "include_colab_link": true
    },
    "kernelspec": {
      "name": "python3",
      "display_name": "Python 3"
    },
    "language_info": {
      "name": "python"
    }
  },
  "cells": [
    {
      "cell_type": "markdown",
      "metadata": {
        "id": "view-in-github",
        "colab_type": "text"
      },
      "source": [
        "<a href=\"https://colab.research.google.com/github/Rajputian/Taiyo-Sunnywale-and-UK-Govt-tender-Web-Scraping/blob/main/Taiyo_web_scarping.ipynb\" target=\"_parent\"><img src=\"https://colab.research.google.com/assets/colab-badge.svg\" alt=\"Open In Colab\"/></a>"
      ]
    },
    {
      "cell_type": "code",
      "source": [
        "import requests\n",
        "import json\n",
        "response=requests.get('https://api.demandstar.com/contents/agency/search?id=e9a860f4-8f17-43af-aae7-e5dc8389f36e')"
      ],
      "metadata": {
        "id": "Rm1e3kwYzUBT"
      },
      "execution_count": 6,
      "outputs": []
    },
    {
      "cell_type": "code",
      "source": [
        "print(response.status_code,len(response.text),type(response.json()))\n",
        "## status code 200 shows the website is working perfectly\n"
      ],
      "metadata": {
        "colab": {
          "base_uri": "https://localhost:8080/"
        },
        "id": "Zk4Iza140Iuv",
        "outputId": "61626966-a2e2-4dcf-8750-fb7db392a0da"
      },
      "execution_count": 7,
      "outputs": [
        {
          "output_type": "stream",
          "name": "stdout",
          "text": [
            "200 45810 <class 'dict'>\n"
          ]
        }
      ]
    },
    {
      "cell_type": "code",
      "source": [
        "## lets encapsulate all the response data \n",
        "data=response.json()\n",
        "data.keys()"
      ],
      "metadata": {
        "colab": {
          "base_uri": "https://localhost:8080/"
        },
        "id": "Jo6DBwZ31HQf",
        "outputId": "2b6372f1-ba87-4c4e-e124-296b3240f53e"
      },
      "execution_count": 8,
      "outputs": [
        {
          "output_type": "execute_result",
          "data": {
            "text/plain": [
              "dict_keys(['total', 'result'])"
            ]
          },
          "metadata": {},
          "execution_count": 8
        }
      ]
    },
    {
      "cell_type": "code",
      "source": [
        "sunnyvale_data = json.loads(response.text)\n",
        "import pandas as pd\n",
        "df = pd.DataFrame(data[\"result\"])\n",
        "print(df)\n"
      ],
      "metadata": {
        "colab": {
          "base_uri": "https://localhost:8080/"
        },
        "id": "w5qZU7SXzkmC",
        "outputId": "15ed10a0-66d0-48ce-914c-08e0bb8d3afe"
      },
      "execution_count": 9,
      "outputs": [
        {
          "output_type": "stream",
          "name": "stdout",
          "text": [
            "     bidId                                            bidName  \\\n",
            "0   397420              Polymer, Coagulant/Floculant Products   \n",
            "1   397619                        Network Appliance Equipment   \n",
            "2   397510  Concrete Sidewalk, Curb, Gutter and Driveway A...   \n",
            "3   396548  Professional Services for Safety and Loss Control   \n",
            "4   396467  Workforce Innovation & Opportunity Act Adult &...   \n",
            "..     ...                                                ...   \n",
            "95  369753                            Annual Slurry Seal 2020   \n",
            "96  368865  On-Call Fire Protection & Building Safety Revi...   \n",
            "97  368114           Comprehensive Development User Fee Study   \n",
            "98  368405  Concrete Sidewalk, Curb, Gutter, Driveway Repl...   \n",
            "99  367711  Caribbean Drive Parking and Trail Access Enhan...   \n",
            "\n",
            "               bidIdentifier             agency broadCastDate     dueDate  \\\n",
            "0     RFQL-F22-095-0-2022/LV  City of Sunnyvale    03/23/2022  06/16/2022   \n",
            "1     IFB-F22-089-0-2022/MAP  City of Sunnyvale    03/28/2022  04/13/2022   \n",
            "2      IFB-PW22-07-0-2022/LV  City of Sunnyvale    03/25/2022  04/13/2022   \n",
            "3      RFP-F22-064-0-2022/LV  City of Sunnyvale    03/02/2022  04/05/2022   \n",
            "4   RFP-NOVA-22-01-0-2022/lj  City of Sunnyvale    03/01/2022  04/04/2022   \n",
            "..                       ...                ...           ...         ...   \n",
            "95     IFB-PW20-13-0-2020/LV  City of Sunnyvale    01/02/2020  01/29/2020   \n",
            "96    RFP-F19-235-0-2020/JLe  City of Sunnyvale    12/05/2019  01/10/2020   \n",
            "97    RFP-F20-066-0-2020/JLe  City of Sunnyvale    11/15/2019  12/13/2019   \n",
            "98    IFB-PW20-07-0-2020/JLe  City of Sunnyvale    11/21/2019  12/11/2019   \n",
            "99     IFB-PW20-06-0-2020/LV  City of Sunnyvale    11/07/2019  12/04/2019   \n",
            "\n",
            "         city state postalCode planholders watches  watchStatus  showMinimum  \\\n",
            "0   Sunnyvale    CA       None          15       0        False        False   \n",
            "1   Sunnyvale    CA       None           9       0        False        False   \n",
            "2   Sunnyvale    CA       None          12       0        False        False   \n",
            "3   Sunnyvale    CA       None          10       0        False        False   \n",
            "4   Sunnyvale    CA       None           3       0        False        False   \n",
            "..        ...   ...        ...         ...     ...          ...          ...   \n",
            "95  Sunnyvale    CA       None          19       0        False        False   \n",
            "96  Sunnyvale    CA       None          22       0        False        False   \n",
            "97  Sunnyvale    CA       None          11       0        False        False   \n",
            "98  Sunnyvale    CA       None          20       0        False        False   \n",
            "99  Sunnyvale    CA       None          25       0        False        False   \n",
            "\n",
            "   internalStatus statusTheme   status statusType     mi percentage  area  \n",
            "0              BR        None   Active         AC  10337       None  None  \n",
            "1              BR        None   Active         AC  10337       None  None  \n",
            "2              BR        None   Active         AC  10337       None  None  \n",
            "3              BR        None   Active         AC  10337       None  None  \n",
            "4              BR        None   Active         AC  10337       None  None  \n",
            "..            ...         ...      ...        ...    ...        ...   ...  \n",
            "95             BR        None  Awarded         AW  10337       None  None  \n",
            "96             BR        None  Awarded         AW  10337       None  None  \n",
            "97             BR        None  Awarded         AW  10337       None  None  \n",
            "98             BR        None  Awarded         AW  10337       None  None  \n",
            "99             BR        None  Awarded         AW  10337       None  None  \n",
            "\n",
            "[100 rows x 20 columns]\n"
          ]
        }
      ]
    },
    {
      "cell_type": "code",
      "source": [
        "df.to_csv('Sunnyvale_tenders.csv',index=False)"
      ],
      "metadata": {
        "id": "csfNnvmwxFbx"
      },
      "execution_count": 10,
      "outputs": []
    },
    {
      "cell_type": "markdown",
      "source": [
        "#Public contracts Scotland by UK Government"
      ],
      "metadata": {
        "id": "u7PoNSjw5sXO"
      }
    },
    {
      "cell_type": "code",
      "source": [
        "import requests\n",
        "import json\n",
        "response2=requests.get('https://www.publiccontractsscotland.gov.uk/search/search_mainpage.aspx')"
      ],
      "metadata": {
        "id": "jGWDXl7R8Ltl"
      },
      "execution_count": 12,
      "outputs": []
    },
    {
      "cell_type": "code",
      "source": [
        "print(response2.status_code,len(response2.text),type(response2))\n",
        "## status code 200 shows the website is working perfectly"
      ],
      "metadata": {
        "colab": {
          "base_uri": "https://localhost:8080/"
        },
        "id": "K0-KeSRC8eTc",
        "outputId": "008cbd23-1cc6-4164-f0b0-90df33413c0b"
      },
      "execution_count": 19,
      "outputs": [
        {
          "output_type": "stream",
          "name": "stdout",
          "text": [
            "200 243060 <class 'requests.models.Response'>\n"
          ]
        }
      ]
    },
    {
      "cell_type": "code",
      "source": [
        "import requests\n",
        "from bs4 import BeautifulSoup"
      ],
      "metadata": {
        "id": "JjaIjYBBBi0o"
      },
      "execution_count": 21,
      "outputs": []
    },
    {
      "cell_type": "code",
      "source": [
        "from bs4 import BeautifulSoup\n",
        "import pandas as pd\n",
        "import numpy as np\n",
        "import requests\n",
        "\n",
        "url = 'https://www.publiccontractsscotland.gov.uk/Search/Search_MainPage.aspx'\n",
        "site = requests.get(url)\n",
        "\n",
        "soup = BeautifulSoup(site.content, 'html.parser')\n",
        "table = soup.find('table')\n"
      ],
      "metadata": {
        "id": "OZyEtRpZOwgG"
      },
      "execution_count": 22,
      "outputs": []
    },
    {
      "cell_type": "code",
      "source": [
        "table1 = soup.find('table', id='maintablecontent')\n"
      ],
      "metadata": {
        "id": "z66xTxnoQZyv"
      },
      "execution_count": 23,
      "outputs": []
    },
    {
      "cell_type": "code",
      "source": [
        "headers = []\n",
        "for i in table1.find_all('th'):\n",
        " title = i.text\n",
        " headers.append(title)"
      ],
      "metadata": {
        "id": "Iy1kpzs2Qz8b"
      },
      "execution_count": 24,
      "outputs": []
    },
    {
      "cell_type": "code",
      "source": [
        "mydata = pd.DataFrame(columns = headers)"
      ],
      "metadata": {
        "id": "Lh_RbtCzUYwT"
      },
      "execution_count": 25,
      "outputs": []
    },
    {
      "cell_type": "code",
      "source": [
        "# Create a for loop to fill mydata\n",
        "for j in table1.find_all('tr')[1:]:\n",
        " row_data = j.find_all('td')\n",
        " row = [i.text for i in row_data]\n",
        " length = len(mydata)\n",
        " mydata.loc[length] = row"
      ],
      "metadata": {
        "id": "m1BPq_nqUdUp"
      },
      "execution_count": 26,
      "outputs": []
    },
    {
      "cell_type": "code",
      "source": [
        "mydata"
      ],
      "metadata": {
        "colab": {
          "base_uri": "https://localhost:8080/",
          "height": 363
        },
        "id": "sT_l4DvKUnv6",
        "outputId": "bdf2cca9-a9fd-4f7b-af76-fa3b9e295a7a"
      },
      "execution_count": 27,
      "outputs": [
        {
          "output_type": "execute_result",
          "data": {
            "text/plain": [
              "                                                Date  \\\n",
              "0  \\r\\n                                    31/03/...   \n",
              "1  \\r\\n                                    31/03/...   \n",
              "2  \\r\\n                                    31/03/...   \n",
              "3  \\r\\n                                    31/03/...   \n",
              "4  \\r\\n                                    31/03/...   \n",
              "5  \\r\\n                                    31/03/...   \n",
              "6  \\r\\n                                    31/03/...   \n",
              "7  \\r\\n                                    31/03/...   \n",
              "8  \\r\\n                                    31/03/...   \n",
              "9  \\r\\n                                    31/03/...   \n",
              "\n",
              "                                      Notice Details  \n",
              "0  \\nAward of Provision of a Programme Planning M...  \n",
              "1  \\nPainting & Decorating Works (Opens in new ta...  \n",
              "2  \\nFlexible Framework for Self Directed Support...  \n",
              "3  \\nPitlochry Festival Theatre â€“ Redevelopment...  \n",
              "4  \\nCE-38-22 Proposed Independent Advocacy Servi...  \n",
              "5  \\nSupply, Delivery and Commissioning of a Wet-...  \n",
              "6  \\nFunding to Develop a Community Dementia Proj...  \n",
              "7  \\nC001913 NES Virtual Conference (Opens in new...  \n",
              "8  \\nGrass Verge Cutting Services (Opens in new t...  \n",
              "9  \\nInternal Audit (Opens in new tab)\\n\\nReferen...  "
            ],
            "text/html": [
              "\n",
              "  <div id=\"df-d5dd4dc1-64d0-467d-b2c0-a5848d40cc03\">\n",
              "    <div class=\"colab-df-container\">\n",
              "      <div>\n",
              "<style scoped>\n",
              "    .dataframe tbody tr th:only-of-type {\n",
              "        vertical-align: middle;\n",
              "    }\n",
              "\n",
              "    .dataframe tbody tr th {\n",
              "        vertical-align: top;\n",
              "    }\n",
              "\n",
              "    .dataframe thead th {\n",
              "        text-align: right;\n",
              "    }\n",
              "</style>\n",
              "<table border=\"1\" class=\"dataframe\">\n",
              "  <thead>\n",
              "    <tr style=\"text-align: right;\">\n",
              "      <th></th>\n",
              "      <th>Date</th>\n",
              "      <th>Notice Details</th>\n",
              "    </tr>\n",
              "  </thead>\n",
              "  <tbody>\n",
              "    <tr>\n",
              "      <th>0</th>\n",
              "      <td>\\r\\n                                    31/03/...</td>\n",
              "      <td>\\nAward of Provision of a Programme Planning M...</td>\n",
              "    </tr>\n",
              "    <tr>\n",
              "      <th>1</th>\n",
              "      <td>\\r\\n                                    31/03/...</td>\n",
              "      <td>\\nPainting &amp; Decorating Works (Opens in new ta...</td>\n",
              "    </tr>\n",
              "    <tr>\n",
              "      <th>2</th>\n",
              "      <td>\\r\\n                                    31/03/...</td>\n",
              "      <td>\\nFlexible Framework for Self Directed Support...</td>\n",
              "    </tr>\n",
              "    <tr>\n",
              "      <th>3</th>\n",
              "      <td>\\r\\n                                    31/03/...</td>\n",
              "      <td>\\nPitlochry Festival Theatre â€“ Redevelopment...</td>\n",
              "    </tr>\n",
              "    <tr>\n",
              "      <th>4</th>\n",
              "      <td>\\r\\n                                    31/03/...</td>\n",
              "      <td>\\nCE-38-22 Proposed Independent Advocacy Servi...</td>\n",
              "    </tr>\n",
              "    <tr>\n",
              "      <th>5</th>\n",
              "      <td>\\r\\n                                    31/03/...</td>\n",
              "      <td>\\nSupply, Delivery and Commissioning of a Wet-...</td>\n",
              "    </tr>\n",
              "    <tr>\n",
              "      <th>6</th>\n",
              "      <td>\\r\\n                                    31/03/...</td>\n",
              "      <td>\\nFunding to Develop a Community Dementia Proj...</td>\n",
              "    </tr>\n",
              "    <tr>\n",
              "      <th>7</th>\n",
              "      <td>\\r\\n                                    31/03/...</td>\n",
              "      <td>\\nC001913 NES Virtual Conference (Opens in new...</td>\n",
              "    </tr>\n",
              "    <tr>\n",
              "      <th>8</th>\n",
              "      <td>\\r\\n                                    31/03/...</td>\n",
              "      <td>\\nGrass Verge Cutting Services (Opens in new t...</td>\n",
              "    </tr>\n",
              "    <tr>\n",
              "      <th>9</th>\n",
              "      <td>\\r\\n                                    31/03/...</td>\n",
              "      <td>\\nInternal Audit (Opens in new tab)\\n\\nReferen...</td>\n",
              "    </tr>\n",
              "  </tbody>\n",
              "</table>\n",
              "</div>\n",
              "      <button class=\"colab-df-convert\" onclick=\"convertToInteractive('df-d5dd4dc1-64d0-467d-b2c0-a5848d40cc03')\"\n",
              "              title=\"Convert this dataframe to an interactive table.\"\n",
              "              style=\"display:none;\">\n",
              "        \n",
              "  <svg xmlns=\"http://www.w3.org/2000/svg\" height=\"24px\"viewBox=\"0 0 24 24\"\n",
              "       width=\"24px\">\n",
              "    <path d=\"M0 0h24v24H0V0z\" fill=\"none\"/>\n",
              "    <path d=\"M18.56 5.44l.94 2.06.94-2.06 2.06-.94-2.06-.94-.94-2.06-.94 2.06-2.06.94zm-11 1L8.5 8.5l.94-2.06 2.06-.94-2.06-.94L8.5 2.5l-.94 2.06-2.06.94zm10 10l.94 2.06.94-2.06 2.06-.94-2.06-.94-.94-2.06-.94 2.06-2.06.94z\"/><path d=\"M17.41 7.96l-1.37-1.37c-.4-.4-.92-.59-1.43-.59-.52 0-1.04.2-1.43.59L10.3 9.45l-7.72 7.72c-.78.78-.78 2.05 0 2.83L4 21.41c.39.39.9.59 1.41.59.51 0 1.02-.2 1.41-.59l7.78-7.78 2.81-2.81c.8-.78.8-2.07 0-2.86zM5.41 20L4 18.59l7.72-7.72 1.47 1.35L5.41 20z\"/>\n",
              "  </svg>\n",
              "      </button>\n",
              "      \n",
              "  <style>\n",
              "    .colab-df-container {\n",
              "      display:flex;\n",
              "      flex-wrap:wrap;\n",
              "      gap: 12px;\n",
              "    }\n",
              "\n",
              "    .colab-df-convert {\n",
              "      background-color: #E8F0FE;\n",
              "      border: none;\n",
              "      border-radius: 50%;\n",
              "      cursor: pointer;\n",
              "      display: none;\n",
              "      fill: #1967D2;\n",
              "      height: 32px;\n",
              "      padding: 0 0 0 0;\n",
              "      width: 32px;\n",
              "    }\n",
              "\n",
              "    .colab-df-convert:hover {\n",
              "      background-color: #E2EBFA;\n",
              "      box-shadow: 0px 1px 2px rgba(60, 64, 67, 0.3), 0px 1px 3px 1px rgba(60, 64, 67, 0.15);\n",
              "      fill: #174EA6;\n",
              "    }\n",
              "\n",
              "    [theme=dark] .colab-df-convert {\n",
              "      background-color: #3B4455;\n",
              "      fill: #D2E3FC;\n",
              "    }\n",
              "\n",
              "    [theme=dark] .colab-df-convert:hover {\n",
              "      background-color: #434B5C;\n",
              "      box-shadow: 0px 1px 3px 1px rgba(0, 0, 0, 0.15);\n",
              "      filter: drop-shadow(0px 1px 2px rgba(0, 0, 0, 0.3));\n",
              "      fill: #FFFFFF;\n",
              "    }\n",
              "  </style>\n",
              "\n",
              "      <script>\n",
              "        const buttonEl =\n",
              "          document.querySelector('#df-d5dd4dc1-64d0-467d-b2c0-a5848d40cc03 button.colab-df-convert');\n",
              "        buttonEl.style.display =\n",
              "          google.colab.kernel.accessAllowed ? 'block' : 'none';\n",
              "\n",
              "        async function convertToInteractive(key) {\n",
              "          const element = document.querySelector('#df-d5dd4dc1-64d0-467d-b2c0-a5848d40cc03');\n",
              "          const dataTable =\n",
              "            await google.colab.kernel.invokeFunction('convertToInteractive',\n",
              "                                                     [key], {});\n",
              "          if (!dataTable) return;\n",
              "\n",
              "          const docLinkHtml = 'Like what you see? Visit the ' +\n",
              "            '<a target=\"_blank\" href=https://colab.research.google.com/notebooks/data_table.ipynb>data table notebook</a>'\n",
              "            + ' to learn more about interactive tables.';\n",
              "          element.innerHTML = '';\n",
              "          dataTable['output_type'] = 'display_data';\n",
              "          await google.colab.output.renderOutput(dataTable, element);\n",
              "          const docLink = document.createElement('div');\n",
              "          docLink.innerHTML = docLinkHtml;\n",
              "          element.appendChild(docLink);\n",
              "        }\n",
              "      </script>\n",
              "    </div>\n",
              "  </div>\n",
              "  "
            ]
          },
          "metadata": {},
          "execution_count": 27
        }
      ]
    },
    {
      "cell_type": "code",
      "source": [
        "df.to_csv('UKgovt_tenders.csv',index=False)"
      ],
      "metadata": {
        "id": "EWiKDzuw44pr"
      },
      "execution_count": 28,
      "outputs": []
    }
  ]
}